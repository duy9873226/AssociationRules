{
  "nbformat": 4,
  "nbformat_minor": 0,
  "metadata": {
    "colab": {
      "name": "51800861_PhamDucDuy_Week3.ipynb",
      "provenance": [],
      "collapsed_sections": [],
      "authorship_tag": "ABX9TyP1fNrtnRkWqbxkPu38eUYU",
      "include_colab_link": true
    },
    "kernelspec": {
      "name": "python3",
      "display_name": "Python 3"
    }
  },
  "cells": [
    {
      "cell_type": "markdown",
      "metadata": {
        "id": "view-in-github",
        "colab_type": "text"
      },
      "source": [
        "<a href=\"https://colab.research.google.com/github/duy9873226/AssociationRules/blob/main/51800861_PhamDucDuy_Week3.ipynb\" target=\"_parent\"><img src=\"https://colab.research.google.com/assets/colab-badge.svg\" alt=\"Open In Colab\"/></a>"
      ]
    },
    {
      "cell_type": "code",
      "metadata": {
        "colab": {
          "base_uri": "https://localhost:8080/"
        },
        "id": "_igDoM6VaPx_",
        "outputId": "54852bde-d275-4e5b-a3f5-bddd0f961450"
      },
      "source": [
        "pip install apyori"
      ],
      "execution_count": 2,
      "outputs": [
        {
          "output_type": "stream",
          "text": [
            "Collecting apyori\n",
            "  Downloading https://files.pythonhosted.org/packages/5e/62/5ffde5c473ea4b033490617ec5caa80d59804875ad3c3c57c0976533a21a/apyori-1.1.2.tar.gz\n",
            "Building wheels for collected packages: apyori\n",
            "  Building wheel for apyori (setup.py) ... \u001b[?25l\u001b[?25hdone\n",
            "  Created wheel for apyori: filename=apyori-1.1.2-cp37-none-any.whl size=5975 sha256=be09bad3c93942a949fb7b6080eeb5f9b73e3ef9d5deb854972a2fe39fa9c517\n",
            "  Stored in directory: /root/.cache/pip/wheels/5d/92/bb/474bbadbc8c0062b9eb168f69982a0443263f8ab1711a8cad0\n",
            "Successfully built apyori\n",
            "Installing collected packages: apyori\n",
            "Successfully installed apyori-1.1.2\n"
          ],
          "name": "stdout"
        }
      ]
    },
    {
      "cell_type": "code",
      "metadata": {
        "colab": {
          "base_uri": "https://localhost:8080/"
        },
        "id": "41_OTgNym_6L",
        "outputId": "a303301c-4e9d-42c2-85e9-4fc21b10ccfa"
      },
      "source": [
        "pip install pyspark"
      ],
      "execution_count": 4,
      "outputs": [
        {
          "output_type": "stream",
          "text": [
            "Collecting pyspark\n",
            "\u001b[?25l  Downloading https://files.pythonhosted.org/packages/27/67/5158f846202d7f012d1c9ca21c3549a58fd3c6707ae8ee823adcaca6473c/pyspark-3.0.2.tar.gz (204.8MB)\n",
            "\u001b[K     |████████████████████████████████| 204.8MB 75kB/s \n",
            "\u001b[?25hCollecting py4j==0.10.9\n",
            "\u001b[?25l  Downloading https://files.pythonhosted.org/packages/9e/b6/6a4fb90cd235dc8e265a6a2067f2a2c99f0d91787f06aca4bcf7c23f3f80/py4j-0.10.9-py2.py3-none-any.whl (198kB)\n",
            "\u001b[K     |████████████████████████████████| 204kB 20.2MB/s \n",
            "\u001b[?25hBuilding wheels for collected packages: pyspark\n",
            "  Building wheel for pyspark (setup.py) ... \u001b[?25l\u001b[?25hdone\n",
            "  Created wheel for pyspark: filename=pyspark-3.0.2-py2.py3-none-any.whl size=205186687 sha256=385bdf725aa199aa70343996b45d37e10fc0d7086f5b5e3bd4b1a182784b8c97\n",
            "  Stored in directory: /root/.cache/pip/wheels/8b/09/da/c1f2859bcc86375dc972c5b6af4881b3603269bcc4c9be5d16\n",
            "Successfully built pyspark\n",
            "Installing collected packages: py4j, pyspark\n",
            "Successfully installed py4j-0.10.9 pyspark-3.0.2\n"
          ],
          "name": "stdout"
        }
      ]
    },
    {
      "cell_type": "code",
      "metadata": {
        "id": "a51xxOOdatzg",
        "colab": {
          "base_uri": "https://localhost:8080/"
        },
        "outputId": "52c1ccb0-a79c-4670-90f3-0d4d949fdd75"
      },
      "source": [
        "from pyspark import SparkContext\r\n",
        "from apyori import apriori\r\n",
        "import os\r\n",
        "sc = SparkContext.getOrCreate()\r\n",
        "data = sc.textFile(\"store_data.csv\") \\\r\n",
        "    .map(lambda line: line.split(\",\")) \\\r\n",
        "    .filter(lambda line: len(line)>1) \\\r\n",
        "    .map(lambda line: (line[0],line[1]))\r\n",
        "data_list = list()\r\n",
        "for line in data.collect():\r\n",
        "  data_list.append(list(line))\r\n",
        "association_generator = apriori(data_list, min_support=0.0052, min_confidence=0.2, min_length=2)\r\n",
        "association_results = list(association_generator)\r\n",
        "print(association_results)\r\n",
        "for item in association_results:\r\n",
        "\r\n",
        "    pair = item[0] \r\n",
        "    items = [x for x in pair]\r\n",
        "    print(\"Rule: \" + items[0] + \" -> \" + items[1])\r\n",
        "\r\n",
        "    print(\"Support: \" + str(item[1]))\r\n",
        "\r\n",
        "    print(\"Confidence: \" + str(item[2][0][2]))\r\n",
        "    print(\"Lift: \" + str(item[2][0][3]))\r\n",
        "    print(\"=====================================\")\r\n",
        "\r\n",
        "\r\n",
        "\r\n"
      ],
      "execution_count": 45,
      "outputs": [
        {
          "output_type": "stream",
          "text": [
            "[RelationRecord(items=frozenset({'soup', 'mineral water'}), support=0.005394118670610753, ordered_statistics=[OrderedStatistic(items_base=frozenset({'soup'}), items_add=frozenset({'mineral water'}), confidence=0.21232876712328766, lift=1.2605923808445603)])]\n",
            "Rule: soup -> mineral water\n",
            "Support: 0.005394118670610753\n",
            "Confidence: 0.21232876712328766\n",
            "Lift: 1.2605923808445603\n",
            "=====================================\n"
          ],
          "name": "stdout"
        }
      ]
    }
  ]
}